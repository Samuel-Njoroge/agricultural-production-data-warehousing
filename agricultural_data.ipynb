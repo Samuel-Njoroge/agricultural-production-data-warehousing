{
 "cells": [
  {
   "cell_type": "code",
   "execution_count": 1,
   "metadata": {},
   "outputs": [],
   "source": [
    "# Importing libraries\n",
    "import boto3\n",
    "import pandas as pd\n",
    "import time\n",
    "from io import StringIO"
   ]
  },
  {
   "cell_type": "code",
   "execution_count": 2,
   "metadata": {},
   "outputs": [],
   "source": [
    "# Connection parameters\n",
    "AWS_ACCESS_KEY = \"access_key\"\n",
    "AWS_SECRET_KEY = \"secret_access_key\"\n",
    "AWS_REGION = \"us-east-1\"\n",
    "SCHEMA_NAME = \"agricultural_production_database\"\n",
    "S3_STAGING_DIR = \"s3://agricultural-production/output/\"\n",
    "S3_BUCKET_NAME = \"agricultural-production\"\n",
    "S3_OUTPUT_DIRECTORY = \"output\""
   ]
  },
  {
   "cell_type": "code",
   "execution_count": 3,
   "metadata": {},
   "outputs": [],
   "source": [
    "# Athena connection\n",
    "athena_client = boto3.client(\n",
    "    \"athena\",\n",
    "    aws_access_key_id=AWS_SECRET_KEY,\n",
    "    aws_secret_access_key=AWS_SECRET_KEY,\n",
    "    region_name=AWS_REGION\n",
    ")"
   ]
  },
  {
   "cell_type": "code",
   "execution_count": 4,
   "metadata": {},
   "outputs": [],
   "source": [
    "Dict = {}\n",
    "def download_and_load_query_results(\n",
    "        client: boto3.client, query_response: Dict\n",
    ") -> pd.DataFrame:\n",
    "    while True:\n",
    "        try:\n",
    "            client.get_query_results(\n",
    "                QueryExecutionId=query_response[\"QueryExecutionId\"]\n",
    "            )\n",
    "            break\n",
    "        except Exception as err:\n",
    "            if \"not yet finished\" in str(err):\n",
    "                time.sleep(0.001)\n",
    "            else:\n",
    "                raise err\n",
    "    temp_file_location: str = \"athena_query_results.csv\"\n",
    "    s3_client = boto3.client(\n",
    "        \"s3\",\n",
    "        aws_access_key_id=AWS_ACCESS_KEY,\n",
    "        aws_secret_access_key=AWS_SECRET_KEY,\n",
    "        region_name=AWS_REGION,\n",
    "    )\n",
    "    s3_client.download_file(\n",
    "        S3_BUCKET_NAME,\n",
    "        f\"{S3_OUTPUT_DIRECTORY}/{query_response['QueryExecutionId']}.csv\",\n",
    "        temp_file_location,\n",
    "    )\n",
    "    return pd.read_csv(temp_file_location)"
   ]
  },
  {
   "cell_type": "markdown",
   "metadata": {},
   "source": [
    "### Cheese Data"
   ]
  },
  {
   "cell_type": "code",
   "execution_count": 5,
   "metadata": {},
   "outputs": [],
   "source": [
    "# Cheese production table\n",
    "athena_client = boto3.client(\n",
    "    'athena',\n",
    "    region_name='us-east-1',\n",
    "    aws_access_key_id=AWS_ACCESS_KEY,\n",
    "    aws_secret_access_key=AWS_SECRET_KEY\n",
    ")\n",
    "\n",
    "response = athena_client.start_query_execution(\n",
    "    QueryString = \"SELECT * FROM cheese_production\",\n",
    "    QueryExecutionContext ={\"Database\":SCHEMA_NAME},\n",
    "    ResultConfiguration={\n",
    "        \"OutputLocation\":S3_STAGING_DIR,\n",
    "        \"EncryptionConfiguration\": {\"EncryptionOption\": \"SSE_S3\"},\n",
    "    },\n",
    ")\n"
   ]
  },
  {
   "cell_type": "code",
   "execution_count": 6,
   "metadata": {},
   "outputs": [
    {
     "data": {
      "text/plain": [
       "{'QueryExecutionId': 'a85de3e5-8e01-48cc-abb8-2147e62e95d0',\n",
       " 'ResponseMetadata': {'RequestId': 'dd567b23-6437-4095-a78a-5462d6a0fb70',\n",
       "  'HTTPStatusCode': 200,\n",
       "  'HTTPHeaders': {'date': 'Fri, 19 Jul 2024 12:42:36 GMT',\n",
       "   'content-type': 'application/x-amz-json-1.1',\n",
       "   'content-length': '59',\n",
       "   'connection': 'keep-alive',\n",
       "   'x-amzn-requestid': 'dd567b23-6437-4095-a78a-5462d6a0fb70'},\n",
       "  'RetryAttempts': 0}}"
      ]
     },
     "execution_count": 6,
     "metadata": {},
     "output_type": "execute_result"
    }
   ],
   "source": [
    "response"
   ]
  },
  {
   "cell_type": "code",
   "execution_count": 7,
   "metadata": {},
   "outputs": [
    {
     "data": {
      "text/html": [
       "<div>\n",
       "<style scoped>\n",
       "    .dataframe tbody tr th:only-of-type {\n",
       "        vertical-align: middle;\n",
       "    }\n",
       "\n",
       "    .dataframe tbody tr th {\n",
       "        vertical-align: top;\n",
       "    }\n",
       "\n",
       "    .dataframe thead th {\n",
       "        text-align: right;\n",
       "    }\n",
       "</style>\n",
       "<table border=\"1\" class=\"dataframe\">\n",
       "  <thead>\n",
       "    <tr style=\"text-align: right;\">\n",
       "      <th></th>\n",
       "      <th>year</th>\n",
       "      <th>period</th>\n",
       "      <th>geo_level</th>\n",
       "      <th>state_ansi</th>\n",
       "      <th>commodity_id</th>\n",
       "      <th>domain</th>\n",
       "      <th>value</th>\n",
       "    </tr>\n",
       "  </thead>\n",
       "  <tbody>\n",
       "    <tr>\n",
       "      <th>0</th>\n",
       "      <td>2023</td>\n",
       "      <td>APR</td>\n",
       "      <td>STATE</td>\n",
       "      <td>6.0</td>\n",
       "      <td>6</td>\n",
       "      <td>TOTAL</td>\n",
       "      <td>\"208</td>\n",
       "    </tr>\n",
       "    <tr>\n",
       "      <th>1</th>\n",
       "      <td>2023</td>\n",
       "      <td>APR</td>\n",
       "      <td>STATE</td>\n",
       "      <td>16.0</td>\n",
       "      <td>6</td>\n",
       "      <td>TOTAL</td>\n",
       "      <td>\"86</td>\n",
       "    </tr>\n",
       "    <tr>\n",
       "      <th>2</th>\n",
       "      <td>2023</td>\n",
       "      <td>APR</td>\n",
       "      <td>STATE</td>\n",
       "      <td>17.0</td>\n",
       "      <td>6</td>\n",
       "      <td>TOTAL</td>\n",
       "      <td>\"5</td>\n",
       "    </tr>\n",
       "    <tr>\n",
       "      <th>3</th>\n",
       "      <td>2023</td>\n",
       "      <td>APR</td>\n",
       "      <td>STATE</td>\n",
       "      <td>19.0</td>\n",
       "      <td>6</td>\n",
       "      <td>TOTAL</td>\n",
       "      <td>\"31</td>\n",
       "    </tr>\n",
       "    <tr>\n",
       "      <th>4</th>\n",
       "      <td>2023</td>\n",
       "      <td>APR</td>\n",
       "      <td>STATE</td>\n",
       "      <td>27.0</td>\n",
       "      <td>6</td>\n",
       "      <td>TOTAL</td>\n",
       "      <td>\"69</td>\n",
       "    </tr>\n",
       "  </tbody>\n",
       "</table>\n",
       "</div>"
      ],
      "text/plain": [
       "   year period geo_level  state_ansi  commodity_id domain value\n",
       "0  2023    APR     STATE         6.0             6  TOTAL  \"208\n",
       "1  2023    APR     STATE        16.0             6  TOTAL   \"86\n",
       "2  2023    APR     STATE        17.0             6  TOTAL    \"5\n",
       "3  2023    APR     STATE        19.0             6  TOTAL   \"31\n",
       "4  2023    APR     STATE        27.0             6  TOTAL   \"69"
      ]
     },
     "execution_count": 7,
     "metadata": {},
     "output_type": "execute_result"
    }
   ],
   "source": [
    "# Cheese Production data\n",
    "cheese_production = download_and_load_query_results(athena_client, response)\n",
    "cheese_production.head()"
   ]
  },
  {
   "cell_type": "markdown",
   "metadata": {},
   "source": [
    "### Coffee Data"
   ]
  },
  {
   "cell_type": "code",
   "execution_count": 8,
   "metadata": {},
   "outputs": [],
   "source": [
    "# Coffee production table\n",
    "athena_client = boto3.client(\n",
    "    'athena',\n",
    "    region_name='us-east-1',\n",
    "    aws_access_key_id=AWS_ACCESS_KEY,\n",
    "    aws_secret_access_key=AWS_SECRET_KEY\n",
    ")\n",
    "\n",
    "response = athena_client.start_query_execution(\n",
    "    QueryString = \"SELECT * FROM coffee_production\",\n",
    "    QueryExecutionContext ={\"Database\":SCHEMA_NAME},\n",
    "    ResultConfiguration={\n",
    "        \"OutputLocation\":S3_STAGING_DIR,\n",
    "        \"EncryptionConfiguration\": {\"EncryptionOption\": \"SSE_S3\"},\n",
    "    },\n",
    ")\n"
   ]
  },
  {
   "cell_type": "code",
   "execution_count": 9,
   "metadata": {},
   "outputs": [
    {
     "data": {
      "text/html": [
       "<div>\n",
       "<style scoped>\n",
       "    .dataframe tbody tr th:only-of-type {\n",
       "        vertical-align: middle;\n",
       "    }\n",
       "\n",
       "    .dataframe tbody tr th {\n",
       "        vertical-align: top;\n",
       "    }\n",
       "\n",
       "    .dataframe thead th {\n",
       "        text-align: right;\n",
       "    }\n",
       "</style>\n",
       "<table border=\"1\" class=\"dataframe\">\n",
       "  <thead>\n",
       "    <tr style=\"text-align: right;\">\n",
       "      <th></th>\n",
       "      <th>year</th>\n",
       "      <th>period</th>\n",
       "      <th>geo_level</th>\n",
       "      <th>state_ansi</th>\n",
       "      <th>commodity_id</th>\n",
       "      <th>value</th>\n",
       "    </tr>\n",
       "  </thead>\n",
       "  <tbody>\n",
       "    <tr>\n",
       "      <th>0</th>\n",
       "      <td>2016</td>\n",
       "      <td>YEAR</td>\n",
       "      <td>STATE</td>\n",
       "      <td>15</td>\n",
       "      <td>1</td>\n",
       "      <td>\"5</td>\n",
       "    </tr>\n",
       "    <tr>\n",
       "      <th>1</th>\n",
       "      <td>2015</td>\n",
       "      <td>YEAR</td>\n",
       "      <td>STATE</td>\n",
       "      <td>15</td>\n",
       "      <td>1</td>\n",
       "      <td>\"6</td>\n",
       "    </tr>\n",
       "    <tr>\n",
       "      <th>2</th>\n",
       "      <td>2014</td>\n",
       "      <td>YEAR</td>\n",
       "      <td>STATE</td>\n",
       "      <td>15</td>\n",
       "      <td>1</td>\n",
       "      <td>\"7</td>\n",
       "    </tr>\n",
       "    <tr>\n",
       "      <th>3</th>\n",
       "      <td>2013</td>\n",
       "      <td>YEAR</td>\n",
       "      <td>STATE</td>\n",
       "      <td>15</td>\n",
       "      <td>1</td>\n",
       "      <td>\"8</td>\n",
       "    </tr>\n",
       "    <tr>\n",
       "      <th>4</th>\n",
       "      <td>2012</td>\n",
       "      <td>YEAR</td>\n",
       "      <td>STATE</td>\n",
       "      <td>15</td>\n",
       "      <td>1</td>\n",
       "      <td>\"7</td>\n",
       "    </tr>\n",
       "  </tbody>\n",
       "</table>\n",
       "</div>"
      ],
      "text/plain": [
       "   year period geo_level  state_ansi  commodity_id value\n",
       "0  2016   YEAR     STATE          15             1    \"5\n",
       "1  2015   YEAR     STATE          15             1    \"6\n",
       "2  2014   YEAR     STATE          15             1    \"7\n",
       "3  2013   YEAR     STATE          15             1    \"8\n",
       "4  2012   YEAR     STATE          15             1    \"7"
      ]
     },
     "execution_count": 9,
     "metadata": {},
     "output_type": "execute_result"
    }
   ],
   "source": [
    "# Coffee Production data\n",
    "coffee_production = download_and_load_query_results(athena_client, response)\n",
    "coffee_production.head()"
   ]
  },
  {
   "cell_type": "markdown",
   "metadata": {},
   "source": [
    "### Eggs Data"
   ]
  },
  {
   "cell_type": "code",
   "execution_count": 10,
   "metadata": {},
   "outputs": [],
   "source": [
    "# Eggs production table\n",
    "athena_client = boto3.client(\n",
    "    'athena',\n",
    "    region_name='us-east-1',\n",
    "    aws_access_key_id=AWS_ACCESS_KEY,\n",
    "    aws_secret_access_key=AWS_SECRET_KEY\n",
    ")\n",
    "\n",
    "response = athena_client.start_query_execution(\n",
    "    QueryString = \"SELECT * FROM egg_production\",\n",
    "    QueryExecutionContext ={\"Database\":SCHEMA_NAME},\n",
    "    ResultConfiguration={\n",
    "        \"OutputLocation\":S3_STAGING_DIR,\n",
    "        \"EncryptionConfiguration\": {\"EncryptionOption\": \"SSE_S3\"},\n",
    "    },\n",
    ")\n"
   ]
  },
  {
   "cell_type": "code",
   "execution_count": 11,
   "metadata": {},
   "outputs": [
    {
     "data": {
      "text/html": [
       "<div>\n",
       "<style scoped>\n",
       "    .dataframe tbody tr th:only-of-type {\n",
       "        vertical-align: middle;\n",
       "    }\n",
       "\n",
       "    .dataframe tbody tr th {\n",
       "        vertical-align: top;\n",
       "    }\n",
       "\n",
       "    .dataframe thead th {\n",
       "        text-align: right;\n",
       "    }\n",
       "</style>\n",
       "<table border=\"1\" class=\"dataframe\">\n",
       "  <thead>\n",
       "    <tr style=\"text-align: right;\">\n",
       "      <th></th>\n",
       "      <th>year</th>\n",
       "      <th>period</th>\n",
       "      <th>geo_level</th>\n",
       "      <th>state_ansi</th>\n",
       "      <th>commodity_id</th>\n",
       "      <th>domain</th>\n",
       "      <th>value</th>\n",
       "    </tr>\n",
       "  </thead>\n",
       "  <tbody>\n",
       "    <tr>\n",
       "      <th>0</th>\n",
       "      <td>2023</td>\n",
       "      <td>APR</td>\n",
       "      <td>STATE</td>\n",
       "      <td>1.0</td>\n",
       "      <td>7</td>\n",
       "      <td>TOTAL</td>\n",
       "      <td>\"224</td>\n",
       "    </tr>\n",
       "    <tr>\n",
       "      <th>1</th>\n",
       "      <td>2023</td>\n",
       "      <td>APR</td>\n",
       "      <td>STATE</td>\n",
       "      <td>5.0</td>\n",
       "      <td>7</td>\n",
       "      <td>TOTAL</td>\n",
       "      <td>\"319</td>\n",
       "    </tr>\n",
       "    <tr>\n",
       "      <th>2</th>\n",
       "      <td>2023</td>\n",
       "      <td>APR</td>\n",
       "      <td>STATE</td>\n",
       "      <td>6.0</td>\n",
       "      <td>7</td>\n",
       "      <td>TOTAL</td>\n",
       "      <td>\"271</td>\n",
       "    </tr>\n",
       "    <tr>\n",
       "      <th>3</th>\n",
       "      <td>2023</td>\n",
       "      <td>APR</td>\n",
       "      <td>STATE</td>\n",
       "      <td>8.0</td>\n",
       "      <td>7</td>\n",
       "      <td>TOTAL</td>\n",
       "      <td>\"52</td>\n",
       "    </tr>\n",
       "    <tr>\n",
       "      <th>4</th>\n",
       "      <td>2023</td>\n",
       "      <td>APR</td>\n",
       "      <td>STATE</td>\n",
       "      <td>13.0</td>\n",
       "      <td>7</td>\n",
       "      <td>TOTAL</td>\n",
       "      <td>\"437</td>\n",
       "    </tr>\n",
       "  </tbody>\n",
       "</table>\n",
       "</div>"
      ],
      "text/plain": [
       "   year period geo_level  state_ansi  commodity_id domain value\n",
       "0  2023    APR     STATE         1.0             7  TOTAL  \"224\n",
       "1  2023    APR     STATE         5.0             7  TOTAL  \"319\n",
       "2  2023    APR     STATE         6.0             7  TOTAL  \"271\n",
       "3  2023    APR     STATE         8.0             7  TOTAL   \"52\n",
       "4  2023    APR     STATE        13.0             7  TOTAL  \"437"
      ]
     },
     "execution_count": 11,
     "metadata": {},
     "output_type": "execute_result"
    }
   ],
   "source": [
    "# Eggs Production data\n",
    "egg_production = download_and_load_query_results(athena_client, response)\n",
    "egg_production.head()"
   ]
  },
  {
   "cell_type": "markdown",
   "metadata": {},
   "source": [
    "### Honey Data"
   ]
  },
  {
   "cell_type": "code",
   "execution_count": 12,
   "metadata": {},
   "outputs": [],
   "source": [
    "# Honey production table\n",
    "athena_client = boto3.client(\n",
    "    'athena',\n",
    "    region_name='us-east-1',\n",
    "    aws_access_key_id=AWS_ACCESS_KEY,\n",
    "    aws_secret_access_key=AWS_SECRET_KEY\n",
    ")\n",
    "\n",
    "response = athena_client.start_query_execution(\n",
    "    QueryString = \"SELECT * FROM honey_production\",\n",
    "    QueryExecutionContext ={\"Database\":SCHEMA_NAME},\n",
    "    ResultConfiguration={\n",
    "        \"OutputLocation\":S3_STAGING_DIR,\n",
    "        \"EncryptionConfiguration\": {\"EncryptionOption\": \"SSE_S3\"},\n",
    "    },\n",
    ")\n"
   ]
  },
  {
   "cell_type": "code",
   "execution_count": 13,
   "metadata": {},
   "outputs": [
    {
     "data": {
      "text/html": [
       "<div>\n",
       "<style scoped>\n",
       "    .dataframe tbody tr th:only-of-type {\n",
       "        vertical-align: middle;\n",
       "    }\n",
       "\n",
       "    .dataframe tbody tr th {\n",
       "        vertical-align: top;\n",
       "    }\n",
       "\n",
       "    .dataframe thead th {\n",
       "        text-align: right;\n",
       "    }\n",
       "</style>\n",
       "<table border=\"1\" class=\"dataframe\">\n",
       "  <thead>\n",
       "    <tr style=\"text-align: right;\">\n",
       "      <th></th>\n",
       "      <th>year</th>\n",
       "      <th>geo_level</th>\n",
       "      <th>state_ansi</th>\n",
       "      <th>commodity_id</th>\n",
       "      <th>value</th>\n",
       "    </tr>\n",
       "  </thead>\n",
       "  <tbody>\n",
       "    <tr>\n",
       "      <th>0</th>\n",
       "      <td>2022</td>\n",
       "      <td>STATE</td>\n",
       "      <td>1.0</td>\n",
       "      <td>2</td>\n",
       "      <td>\"400</td>\n",
       "    </tr>\n",
       "    <tr>\n",
       "      <th>1</th>\n",
       "      <td>2022</td>\n",
       "      <td>STATE</td>\n",
       "      <td>4.0</td>\n",
       "      <td>2</td>\n",
       "      <td>\"1</td>\n",
       "    </tr>\n",
       "    <tr>\n",
       "      <th>2</th>\n",
       "      <td>2022</td>\n",
       "      <td>STATE</td>\n",
       "      <td>5.0</td>\n",
       "      <td>2</td>\n",
       "      <td>\"1</td>\n",
       "    </tr>\n",
       "    <tr>\n",
       "      <th>3</th>\n",
       "      <td>2022</td>\n",
       "      <td>STATE</td>\n",
       "      <td>6.0</td>\n",
       "      <td>2</td>\n",
       "      <td>\"11</td>\n",
       "    </tr>\n",
       "    <tr>\n",
       "      <th>4</th>\n",
       "      <td>2022</td>\n",
       "      <td>STATE</td>\n",
       "      <td>8.0</td>\n",
       "      <td>2</td>\n",
       "      <td>\"1</td>\n",
       "    </tr>\n",
       "  </tbody>\n",
       "</table>\n",
       "</div>"
      ],
      "text/plain": [
       "   year geo_level  state_ansi  commodity_id value\n",
       "0  2022     STATE         1.0             2  \"400\n",
       "1  2022     STATE         4.0             2    \"1\n",
       "2  2022     STATE         5.0             2    \"1\n",
       "3  2022     STATE         6.0             2   \"11\n",
       "4  2022     STATE         8.0             2    \"1"
      ]
     },
     "execution_count": 13,
     "metadata": {},
     "output_type": "execute_result"
    }
   ],
   "source": [
    "# Honey Production data\n",
    "honey_production = download_and_load_query_results(athena_client, response)\n",
    "honey_production.head()"
   ]
  },
  {
   "cell_type": "markdown",
   "metadata": {},
   "source": [
    "### Milk Data"
   ]
  },
  {
   "cell_type": "code",
   "execution_count": 14,
   "metadata": {},
   "outputs": [],
   "source": [
    "# Milk production table\n",
    "athena_client = boto3.client(\n",
    "    'athena',\n",
    "    region_name='us-east-1',\n",
    "    aws_access_key_id=AWS_ACCESS_KEY,\n",
    "    aws_secret_access_key=AWS_SECRET_KEY\n",
    ")\n",
    "\n",
    "response = athena_client.start_query_execution(\n",
    "    QueryString = \"SELECT * FROM milk_production\",\n",
    "    QueryExecutionContext ={\"Database\":SCHEMA_NAME},\n",
    "    ResultConfiguration={\n",
    "        \"OutputLocation\":S3_STAGING_DIR,\n",
    "        \"EncryptionConfiguration\": {\"EncryptionOption\": \"SSE_S3\"},\n",
    "    },\n",
    ")\n"
   ]
  },
  {
   "cell_type": "code",
   "execution_count": 15,
   "metadata": {},
   "outputs": [
    {
     "data": {
      "text/html": [
       "<div>\n",
       "<style scoped>\n",
       "    .dataframe tbody tr th:only-of-type {\n",
       "        vertical-align: middle;\n",
       "    }\n",
       "\n",
       "    .dataframe tbody tr th {\n",
       "        vertical-align: top;\n",
       "    }\n",
       "\n",
       "    .dataframe thead th {\n",
       "        text-align: right;\n",
       "    }\n",
       "</style>\n",
       "<table border=\"1\" class=\"dataframe\">\n",
       "  <thead>\n",
       "    <tr style=\"text-align: right;\">\n",
       "      <th></th>\n",
       "      <th>year</th>\n",
       "      <th>period</th>\n",
       "      <th>geo_level</th>\n",
       "      <th>state_ansi</th>\n",
       "      <th>commodity_id</th>\n",
       "      <th>domain</th>\n",
       "      <th>value</th>\n",
       "    </tr>\n",
       "  </thead>\n",
       "  <tbody>\n",
       "    <tr>\n",
       "      <th>0</th>\n",
       "      <td>2023</td>\n",
       "      <td>APR</td>\n",
       "      <td>STATE</td>\n",
       "      <td>4.0</td>\n",
       "      <td>5</td>\n",
       "      <td>TOTAL</td>\n",
       "      <td>\"428</td>\n",
       "    </tr>\n",
       "    <tr>\n",
       "      <th>1</th>\n",
       "      <td>2023</td>\n",
       "      <td>APR</td>\n",
       "      <td>STATE</td>\n",
       "      <td>6.0</td>\n",
       "      <td>5</td>\n",
       "      <td>TOTAL</td>\n",
       "      <td>\"3</td>\n",
       "    </tr>\n",
       "    <tr>\n",
       "      <th>2</th>\n",
       "      <td>2023</td>\n",
       "      <td>APR</td>\n",
       "      <td>STATE</td>\n",
       "      <td>8.0</td>\n",
       "      <td>5</td>\n",
       "      <td>TOTAL</td>\n",
       "      <td>\"444</td>\n",
       "    </tr>\n",
       "    <tr>\n",
       "      <th>3</th>\n",
       "      <td>2023</td>\n",
       "      <td>APR</td>\n",
       "      <td>STATE</td>\n",
       "      <td>12.0</td>\n",
       "      <td>5</td>\n",
       "      <td>TOTAL</td>\n",
       "      <td>\"166</td>\n",
       "    </tr>\n",
       "    <tr>\n",
       "      <th>4</th>\n",
       "      <td>2023</td>\n",
       "      <td>APR</td>\n",
       "      <td>STATE</td>\n",
       "      <td>13.0</td>\n",
       "      <td>5</td>\n",
       "      <td>TOTAL</td>\n",
       "      <td>\"180</td>\n",
       "    </tr>\n",
       "  </tbody>\n",
       "</table>\n",
       "</div>"
      ],
      "text/plain": [
       "   year period geo_level  state_ansi  commodity_id domain value\n",
       "0  2023    APR     STATE         4.0             5  TOTAL  \"428\n",
       "1  2023    APR     STATE         6.0             5  TOTAL    \"3\n",
       "2  2023    APR     STATE         8.0             5  TOTAL  \"444\n",
       "3  2023    APR     STATE        12.0             5  TOTAL  \"166\n",
       "4  2023    APR     STATE        13.0             5  TOTAL  \"180"
      ]
     },
     "execution_count": 15,
     "metadata": {},
     "output_type": "execute_result"
    }
   ],
   "source": [
    "# Milk Production data\n",
    "milk_production = download_and_load_query_results(athena_client, response)\n",
    "milk_production.head()"
   ]
  },
  {
   "cell_type": "markdown",
   "metadata": {},
   "source": [
    "### State Data"
   ]
  },
  {
   "cell_type": "code",
   "execution_count": 16,
   "metadata": {},
   "outputs": [],
   "source": [
    "#  State table\n",
    "athena_client = boto3.client(\n",
    "    'athena',\n",
    "    region_name='us-east-1',\n",
    "    aws_access_key_id=AWS_ACCESS_KEY,\n",
    "    aws_secret_access_key=AWS_SECRET_KEY\n",
    ")\n",
    "\n",
    "response = athena_client.start_query_execution(\n",
    "    QueryString = \"SELECT * FROM state_information\",\n",
    "    QueryExecutionContext ={\"Database\":SCHEMA_NAME},\n",
    "    ResultConfiguration={\n",
    "        \"OutputLocation\":S3_STAGING_DIR,\n",
    "        \"EncryptionConfiguration\": {\"EncryptionOption\": \"SSE_S3\"},\n",
    "    },\n",
    ")\n"
   ]
  },
  {
   "cell_type": "code",
   "execution_count": 17,
   "metadata": {},
   "outputs": [
    {
     "data": {
      "text/html": [
       "<div>\n",
       "<style scoped>\n",
       "    .dataframe tbody tr th:only-of-type {\n",
       "        vertical-align: middle;\n",
       "    }\n",
       "\n",
       "    .dataframe tbody tr th {\n",
       "        vertical-align: top;\n",
       "    }\n",
       "\n",
       "    .dataframe thead th {\n",
       "        text-align: right;\n",
       "    }\n",
       "</style>\n",
       "<table border=\"1\" class=\"dataframe\">\n",
       "  <thead>\n",
       "    <tr style=\"text-align: right;\">\n",
       "      <th></th>\n",
       "      <th>state</th>\n",
       "      <th>state_ansi</th>\n",
       "    </tr>\n",
       "  </thead>\n",
       "  <tbody>\n",
       "    <tr>\n",
       "      <th>0</th>\n",
       "      <td>ALABAMA</td>\n",
       "      <td>1</td>\n",
       "    </tr>\n",
       "    <tr>\n",
       "      <th>1</th>\n",
       "      <td>ALASKA</td>\n",
       "      <td>2</td>\n",
       "    </tr>\n",
       "    <tr>\n",
       "      <th>2</th>\n",
       "      <td>ARIZONA</td>\n",
       "      <td>4</td>\n",
       "    </tr>\n",
       "    <tr>\n",
       "      <th>3</th>\n",
       "      <td>ARKANSAS</td>\n",
       "      <td>5</td>\n",
       "    </tr>\n",
       "    <tr>\n",
       "      <th>4</th>\n",
       "      <td>CALIFORNIA</td>\n",
       "      <td>6</td>\n",
       "    </tr>\n",
       "  </tbody>\n",
       "</table>\n",
       "</div>"
      ],
      "text/plain": [
       "        state  state_ansi\n",
       "0     ALABAMA           1\n",
       "1      ALASKA           2\n",
       "2     ARIZONA           4\n",
       "3    ARKANSAS           5\n",
       "4  CALIFORNIA           6"
      ]
     },
     "execution_count": 17,
     "metadata": {},
     "output_type": "execute_result"
    }
   ],
   "source": [
    "# States data\n",
    "state_information = download_and_load_query_results(athena_client, response)\n",
    "state_information.head()"
   ]
  },
  {
   "cell_type": "markdown",
   "metadata": {},
   "source": [
    "### Yogurt Data"
   ]
  },
  {
   "cell_type": "code",
   "execution_count": 18,
   "metadata": {},
   "outputs": [],
   "source": [
    "# Yogurt production table\n",
    "athena_client = boto3.client(\n",
    "    'athena',\n",
    "    region_name='us-east-1',\n",
    "    aws_access_key_id=AWS_ACCESS_KEY,\n",
    "    aws_secret_access_key=AWS_SECRET_KEY\n",
    ")\n",
    "\n",
    "response = athena_client.start_query_execution(\n",
    "    QueryString = \"SELECT * FROM yogurt_production\",\n",
    "    QueryExecutionContext ={\"Database\":SCHEMA_NAME},\n",
    "    ResultConfiguration={\n",
    "        \"OutputLocation\":S3_STAGING_DIR,\n",
    "        \"EncryptionConfiguration\": {\"EncryptionOption\": \"SSE_S3\"},\n",
    "    },\n",
    ")\n"
   ]
  },
  {
   "cell_type": "code",
   "execution_count": 19,
   "metadata": {},
   "outputs": [
    {
     "data": {
      "text/html": [
       "<div>\n",
       "<style scoped>\n",
       "    .dataframe tbody tr th:only-of-type {\n",
       "        vertical-align: middle;\n",
       "    }\n",
       "\n",
       "    .dataframe tbody tr th {\n",
       "        vertical-align: top;\n",
       "    }\n",
       "\n",
       "    .dataframe thead th {\n",
       "        text-align: right;\n",
       "    }\n",
       "</style>\n",
       "<table border=\"1\" class=\"dataframe\">\n",
       "  <thead>\n",
       "    <tr style=\"text-align: right;\">\n",
       "      <th></th>\n",
       "      <th>year</th>\n",
       "      <th>period</th>\n",
       "      <th>geo_level</th>\n",
       "      <th>state_ansi</th>\n",
       "      <th>commodity_id</th>\n",
       "      <th>domain</th>\n",
       "      <th>value</th>\n",
       "    </tr>\n",
       "  </thead>\n",
       "  <tbody>\n",
       "    <tr>\n",
       "      <th>0</th>\n",
       "      <td>2022</td>\n",
       "      <td>YEAR</td>\n",
       "      <td>STATE</td>\n",
       "      <td>6</td>\n",
       "      <td>4</td>\n",
       "      <td>TOTAL</td>\n",
       "      <td>\"377</td>\n",
       "    </tr>\n",
       "    <tr>\n",
       "      <th>1</th>\n",
       "      <td>2022</td>\n",
       "      <td>YEAR</td>\n",
       "      <td>STATE</td>\n",
       "      <td>36</td>\n",
       "      <td>4</td>\n",
       "      <td>TOTAL</td>\n",
       "      <td>\"793</td>\n",
       "    </tr>\n",
       "    <tr>\n",
       "      <th>2</th>\n",
       "      <td>2021</td>\n",
       "      <td>YEAR</td>\n",
       "      <td>STATE</td>\n",
       "      <td>6</td>\n",
       "      <td>4</td>\n",
       "      <td>TOTAL</td>\n",
       "      <td>\"374</td>\n",
       "    </tr>\n",
       "    <tr>\n",
       "      <th>3</th>\n",
       "      <td>2021</td>\n",
       "      <td>YEAR</td>\n",
       "      <td>STATE</td>\n",
       "      <td>36</td>\n",
       "      <td>4</td>\n",
       "      <td>TOTAL</td>\n",
       "      <td>\"774</td>\n",
       "    </tr>\n",
       "    <tr>\n",
       "      <th>4</th>\n",
       "      <td>2020</td>\n",
       "      <td>YEAR</td>\n",
       "      <td>STATE</td>\n",
       "      <td>6</td>\n",
       "      <td>4</td>\n",
       "      <td>TOTAL</td>\n",
       "      <td>\"354</td>\n",
       "    </tr>\n",
       "  </tbody>\n",
       "</table>\n",
       "</div>"
      ],
      "text/plain": [
       "   year period geo_level  state_ansi  commodity_id domain value\n",
       "0  2022   YEAR     STATE           6             4  TOTAL  \"377\n",
       "1  2022   YEAR     STATE          36             4  TOTAL  \"793\n",
       "2  2021   YEAR     STATE           6             4  TOTAL  \"374\n",
       "3  2021   YEAR     STATE          36             4  TOTAL  \"774\n",
       "4  2020   YEAR     STATE           6             4  TOTAL  \"354"
      ]
     },
     "execution_count": 19,
     "metadata": {},
     "output_type": "execute_result"
    }
   ],
   "source": [
    "# Yogurt Production data\n",
    "yogurt_production = download_and_load_query_results(athena_client, response)\n",
    "yogurt_production.head()"
   ]
  },
  {
   "cell_type": "markdown",
   "metadata": {},
   "source": [
    "## ETL (Data Transformation)"
   ]
  },
  {
   "cell_type": "code",
   "execution_count": 20,
   "metadata": {},
   "outputs": [],
   "source": [
    "# Loading all the files\n",
    "cheese_df = cheese_production\n",
    "milk_df = milk_production\n",
    "coffee_df = coffee_production\n",
    "honey_df = honey_production\n",
    "egg_df = egg_production\n",
    "yogurt_df = yogurt_production\n",
    "states_df = state_information"
   ]
  },
  {
   "cell_type": "markdown",
   "metadata": {},
   "source": [
    "### Creating Dimension Tables"
   ]
  },
  {
   "cell_type": "code",
   "execution_count": 21,
   "metadata": {},
   "outputs": [],
   "source": [
    "# Create State Dimension Table\n",
    "state_dim = states_df[['state', 'state_ansi']].drop_duplicates()\n"
   ]
  },
  {
   "cell_type": "code",
   "execution_count": 22,
   "metadata": {},
   "outputs": [
    {
     "name": "stdout",
     "output_type": "stream",
     "text": [
      "     Year Period\n",
      "0    2023    APR\n",
      "1    2023    FEB\n",
      "2    2023    JAN\n",
      "3    2023    MAR\n",
      "4    2023    AUG\n",
      "..    ...    ...\n",
      "697  1970    MAY\n",
      "698  1970    NOV\n",
      "699  1970    OCT\n",
      "700  1970    SEP\n",
      "701  1970   YEAR\n",
      "\n",
      "[702 rows x 2 columns]\n"
     ]
    }
   ],
   "source": [
    "# Define the function to create the Time Dimension Table\n",
    "def create_time_dim(df):\n",
    "    # Get unique values for year and period\n",
    "    unique_years = df['year'].unique()\n",
    "    unique_periods = df['period'].unique()\n",
    "    \n",
    "    # Create a DataFrame for the time dimension\n",
    "    time_dim = pd.DataFrame({\n",
    "        'Year': pd.Series(unique_years).repeat(len(unique_periods)).reset_index(drop=True),\n",
    "        'Period': unique_periods.tolist() * len(unique_years)\n",
    "    }).drop_duplicates()\n",
    "    \n",
    "    return time_dim\n",
    "\n",
    "# Assuming cheese_df has 'Year' and 'Period' columns\n",
    "time_dim = create_time_dim(cheese_df)\n",
    "print(time_dim)"
   ]
  },
  {
   "cell_type": "code",
   "execution_count": 23,
   "metadata": {},
   "outputs": [],
   "source": [
    "# Create Commodity Dimension Table\n",
    "commodity_dim = pd.DataFrame({\n",
    "    'Comodity_id': range(1, 7),  \n",
    "    'Comodity_Name': ['Cheese', 'Milk', 'Coffee', 'Honey', 'Eggs', 'Yogurt']\n",
    "})"
   ]
  },
  {
   "cell_type": "markdown",
   "metadata": {},
   "source": [
    "## Creating Fact Tables"
   ]
  },
  {
   "cell_type": "code",
   "execution_count": 24,
   "metadata": {},
   "outputs": [],
   "source": [
    "# Create Cheese Fact Table\n",
    "cheese_fact = cheese_df[['year', 'period', 'geo_level', 'state_ansi', 'commodity_id', 'value']]\n",
    "cheese_fact = cheese_fact.rename(columns={'Value': 'Cheese_Value'})\n"
   ]
  },
  {
   "cell_type": "code",
   "execution_count": 25,
   "metadata": {},
   "outputs": [],
   "source": [
    "# Create Milk Fact Table\n",
    "milk_fact = milk_df[['year', 'period', 'geo_level', 'state_ansi', 'commodity_id', 'value']]\n",
    "milk_fact = milk_fact.rename(columns={'Value': 'Milk_Value'})\n"
   ]
  },
  {
   "cell_type": "code",
   "execution_count": 26,
   "metadata": {},
   "outputs": [],
   "source": [
    "# Create Coffee Fact Table\n",
    "coffee_fact = coffee_df[['year', 'period', 'geo_level', 'state_ansi', 'commodity_id', 'value']]\n",
    "coffee_fact = coffee_fact.rename(columns={'Value': 'Coffee_Value'})\n"
   ]
  },
  {
   "cell_type": "code",
   "execution_count": 27,
   "metadata": {},
   "outputs": [],
   "source": [
    "# Create Honey Fact Table\n",
    "honey_fact = honey_df[['year', 'geo_level', 'state_ansi', 'commodity_id', 'value']]\n",
    "honey_fact = honey_fact.rename(columns={'Value': 'Honey_Value'})\n"
   ]
  },
  {
   "cell_type": "code",
   "execution_count": 28,
   "metadata": {},
   "outputs": [],
   "source": [
    "# Create Egg Fact Table\n",
    "egg_fact = egg_df[['year', 'period', 'geo_level', 'state_ansi', 'commodity_id', 'value']]\n",
    "egg_fact = egg_fact.rename(columns={'Value': 'Egg_Value'})\n"
   ]
  },
  {
   "cell_type": "code",
   "execution_count": 29,
   "metadata": {},
   "outputs": [],
   "source": [
    "# Create Yogurt Fact Table\n",
    "yogurt_fact = yogurt_df[['year', 'period', 'geo_level', 'state_ansi', 'commodity_id', 'value']]\n",
    "yogurt_fact = yogurt_fact.rename(columns={'Value': 'Yogurt_Value'})\n"
   ]
  },
  {
   "cell_type": "code",
   "execution_count": 30,
   "metadata": {},
   "outputs": [],
   "source": [
    "# Add source column to each fact table\n",
    "cheese_fact['Source'] = 'Cheese'\n",
    "milk_fact['Source'] = 'Milk'\n",
    "coffee_fact['Source'] = 'Coffee'\n",
    "honey_fact['Source'] = 'Honey'\n",
    "egg_fact['Source'] = 'Egg'\n",
    "yogurt_fact['Source'] = 'Yogurt'\n",
    "\n",
    "# Concatenate all fact tables into one\n",
    "all_facts = pd.concat([cheese_fact, milk_fact, coffee_fact, honey_fact, egg_fact, yogurt_fact], ignore_index=True)\n"
   ]
  },
  {
   "cell_type": "code",
   "execution_count": 35,
   "metadata": {},
   "outputs": [],
   "source": [
    "# Save dimension tables\n",
    "state_dim.to_csv('state_dim.csv', index=False)\n",
    "time_dim.to_csv('time_dim.csv', index=False)\n",
    "commodity_dim.to_csv('commodity_dim.csv', index=False)\n",
    "\n",
    "# Save combined fact table\n",
    "all_facts.to_csv('all_facts.csv', index=False)\n"
   ]
  },
  {
   "cell_type": "markdown",
   "metadata": {},
   "source": [
    "## Save transformed data into S3 Bucket"
   ]
  },
  {
   "cell_type": "code",
   "execution_count": 36,
   "metadata": {},
   "outputs": [
    {
     "data": {
      "text/plain": [
       "_io.StringIO"
      ]
     },
     "execution_count": 36,
     "metadata": {},
     "output_type": "execute_result"
    }
   ],
   "source": [
    "csv_buffer = StringIO\n",
    "csv_buffer"
   ]
  },
  {
   "cell_type": "code",
   "execution_count": 38,
   "metadata": {},
   "outputs": [],
   "source": [
    "# Connection parameters to push the all_facts table to S3 Bucket\n",
    "ACCESS_KEY_ID = \"access_key\"\n",
    "SECRET_ACCESS_KEY = \"secret_access_key\"\n",
    "REGION = \"us-east-1\"\n",
    "\n",
    "BUCKET_NAME = \"agricultural-production\"\n",
    "FileName = 'cleandata/all_facts.csv'\n",
    "csv_buffer = StringIO()\n",
    "all_facts.to_csv(csv_buffer, index=False)\n",
    "\n",
    "s3csv = boto3.client('s3',\n",
    "                     region_name = REGION,\n",
    "                     aws_access_key_id = ACCESS_KEY_ID,\n",
    "                     aws_secret_access_key = SECRET_ACCESS_KEY\n",
    "                     )\n",
    "response = s3csv.put_object(Body=csv_buffer.getvalue(),\n",
    "                            Bucket = BUCKET_NAME,\n",
    "                            Key=FileName)"
   ]
  },
  {
   "cell_type": "code",
   "execution_count": 39,
   "metadata": {},
   "outputs": [],
   "source": [
    "# Connection parameters to push the time_dim table to S3 Bucket\n",
    "ACCESS_KEY_ID = \"access_key\"\n",
    "SECRET_ACCESS_KEY = \"secret_access_key\"\n",
    "REGION = \"us-east-1\"\n",
    "\n",
    "BUCKET_NAME = \"agricultural-production\"\n",
    "FileName = 'cleandata/time_dim.csv'\n",
    "csv_buffer = StringIO()\n",
    "time_dim.to_csv(csv_buffer, index=False)\n",
    "\n",
    "s3csv = boto3.client('s3',\n",
    "                     region_name = REGION,\n",
    "                     aws_access_key_id = ACCESS_KEY_ID,\n",
    "                     aws_secret_access_key = SECRET_ACCESS_KEY\n",
    "                     )\n",
    "response = s3csv.put_object(Body=csv_buffer.getvalue(),\n",
    "                            Bucket = BUCKET_NAME,\n",
    "                            Key=FileName)"
   ]
  },
  {
   "cell_type": "markdown",
   "metadata": {},
   "source": [
    "## Glue Deployment"
   ]
  },
  {
   "cell_type": "code",
   "execution_count": 40,
   "metadata": {},
   "outputs": [
    {
     "name": "stdout",
     "output_type": "stream",
     "text": [
      "CREATE TABLE \"time_dimension\" (\n",
      "\"Year\" INTEGER,\n",
      "  \"Period\" TEXT\n",
      ")\n"
     ]
    }
   ],
   "source": [
    "# Time dimension table\n",
    "time_dimensionsql = pd.io.sql.get_schema(time_dim, 'time_dimension')\n",
    "print(''.join(time_dimensionsql))"
   ]
  },
  {
   "cell_type": "code",
   "execution_count": 41,
   "metadata": {},
   "outputs": [
    {
     "name": "stdout",
     "output_type": "stream",
     "text": [
      "CREATE TABLE \"all_facts\" (\n",
      "\"year\" INTEGER,\n",
      "  \"period\" TEXT,\n",
      "  \"geo_level\" TEXT,\n",
      "  \"state_ansi\" REAL,\n",
      "  \"commodity_id\" INTEGER,\n",
      "  \"value\" TEXT,\n",
      "  \"Source\" TEXT\n",
      ")\n"
     ]
    }
   ],
   "source": [
    "# All facts dimension table\n",
    "all_factssql = pd.io.sql.get_schema(all_facts, 'all_facts')\n",
    "print(''.join(all_factssql))"
   ]
  },
  {
   "cell_type": "markdown",
   "metadata": {},
   "source": [
    "## Install RedShift Dependancies"
   ]
  },
  {
   "cell_type": "code",
   "execution_count": 43,
   "metadata": {},
   "outputs": [],
   "source": [
    "import redshift_connector"
   ]
  },
  {
   "cell_type": "code",
   "execution_count": null,
   "metadata": {},
   "outputs": [],
   "source": [
    "# agricultural_engineer\n",
    "# Agricultural1"
   ]
  },
  {
   "cell_type": "code",
   "execution_count": 45,
   "metadata": {},
   "outputs": [],
   "source": [
    "# Connect to RedShift\n",
    "conn = redshift_connector.connect(\n",
    "    host = 'redshift-cluster-1.us-east-1.redshift.amazonaws.com',\n",
    "    database = 'dev',\n",
    "    user ='agricultural_engineer',\n",
    "    password='Agricultural1',\n",
    "    timeout=60\n",
    ")"
   ]
  },
  {
   "cell_type": "code",
   "execution_count": 46,
   "metadata": {},
   "outputs": [],
   "source": [
    "conn.autocommit = True"
   ]
  },
  {
   "cell_type": "code",
   "execution_count": 47,
   "metadata": {},
   "outputs": [],
   "source": [
    "cursor = redshift_connector.Cursor = conn.cursor()"
   ]
  },
  {
   "cell_type": "code",
   "execution_count": 48,
   "metadata": {},
   "outputs": [
    {
     "data": {
      "text/plain": [
       "<redshift_connector.cursor.Cursor at 0x1b353f81e20>"
      ]
     },
     "execution_count": 48,
     "metadata": {},
     "output_type": "execute_result"
    }
   ],
   "source": [
    "cursor.execute(\"\"\"\n",
    "CREATE TABLE \"all_facts\" (\n",
    "\"year\" INTEGER,\n",
    "  \"period\" TEXT,\n",
    "  \"geo_level\" TEXT,\n",
    "  \"state_ansi\" REAL,\n",
    "  \"commodity_id\" INTEGER,\n",
    "  \"value\" TEXT,\n",
    "  \"Source\" TEXT\n",
    ")\n",
    "\"\"\")"
   ]
  },
  {
   "cell_type": "code",
   "execution_count": 49,
   "metadata": {},
   "outputs": [
    {
     "data": {
      "text/plain": [
       "<redshift_connector.cursor.Cursor at 0x1b353f81e20>"
      ]
     },
     "execution_count": 49,
     "metadata": {},
     "output_type": "execute_result"
    }
   ],
   "source": [
    "cursor.execute(\"\"\"\n",
    "CREATE TABLE \"time_dimension\" (\n",
    "\"Year\" INTEGER,\n",
    "  \"Period\" TEXT\n",
    ")               \n",
    "\"\"\")"
   ]
  },
  {
   "cell_type": "code",
   "execution_count": 51,
   "metadata": {},
   "outputs": [
    {
     "data": {
      "text/plain": [
       "<redshift_connector.cursor.Cursor at 0x1b353f81e20>"
      ]
     },
     "execution_count": 51,
     "metadata": {},
     "output_type": "execute_result"
    }
   ],
   "source": [
    "cursor.execute(\"\"\"\n",
    "copy all_facts from 's3://agricultural-production/cleandata/all_facts.csv'\n",
    "credentials 'aws_iam_role=arn:aws:iam::10021:role/agricultural-production-redshift-s3-role'\n",
    "delimiter ','\n",
    "region 'us-east-1'\n",
    "IGNOREHEADER 1\n",
    "\"\"\")"
   ]
  },
  {
   "cell_type": "markdown",
   "metadata": {},
   "source": [
    "s3://agricultural-production/cleandata/time_dim.csv"
   ]
  }
 ],
 "metadata": {
  "kernelspec": {
   "display_name": "base",
   "language": "python",
   "name": "python3"
  },
  "language_info": {
   "codemirror_mode": {
    "name": "ipython",
    "version": 3
   },
   "file_extension": ".py",
   "mimetype": "text/x-python",
   "name": "python",
   "nbconvert_exporter": "python",
   "pygments_lexer": "ipython3",
   "version": "3.9.13"
  }
 },
 "nbformat": 4,
 "nbformat_minor": 2
}
